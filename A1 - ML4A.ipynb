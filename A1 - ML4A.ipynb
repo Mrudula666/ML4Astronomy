{
 "cells": [
  {
   "cell_type": "markdown",
   "metadata": {
    "id": "8FErbUzSO7IR"
   },
   "source": [
    "# <center> Assignment-1 (ML4A)\n",
    "\n",
    "### Total Points: 25\n",
    "\n",
    "---"
   ]
  },
  {
   "cell_type": "markdown",
   "metadata": {
    "id": "HCYENCcy9zpq"
   },
   "source": [
    "**Rules to follow:-**\n",
    "1. You must solve this assignment on Google Colab only.\n",
    "2. You must write your email id in the given space.\n",
    "3. You must not delete any tags in the code or the text cell (#name, #a1, #q1, e.t.c..).\n",
    "4. Each question should be answered in the respective code cell only.\n",
    "5. Per question, there must be only one code cell for the solution.\n",
    "6. Each code cell are separate, so re-import libraries and variables even if defined in the earlier code cells.\n",
    "7. Don't change the code if it is mentioned not to change it.\n",
    "---\n"
   ]
  },
  {
   "cell_type": "markdown",
   "metadata": {
    "id": "Wtmbi4JX_gdb"
   },
   "source": [
    "\n",
    "**NOTE:-**\n",
    "* Please reach out to us in case of any questions.\n",
    "* Don't feel you are alone in solving this assignment.\n",
    "* You can always use #doubts-and-discussion channel to ask your questions regarding any problem.\n",
    "* Just make sure to DM your instructor in case of a doubt in your solution code.\n",
    "---"
   ]
  },
  {
   "cell_type": "markdown",
   "metadata": {
    "id": "spIbzJ01AH9A"
   },
   "source": [
    "## 🌟 ALL THE BEST 🍀"
   ]
  },
  {
   "cell_type": "code",
   "execution_count": null,
   "metadata": {
    "id": "KTec_ySqN7RZ"
   },
   "outputs": [],
   "source": [
    "#name\n",
    "\n",
    "# Write your email id below within quotation marks\n",
    "# An example is provided, for understanding. You need to remove it and write your email id instead.\n",
    "# Make sure this email id matches the email id through which you have registered for this training program\n",
    "\"nmrchandra3@gmail.com\""
   ]
  },
  {
   "cell_type": "markdown",
   "metadata": {
    "id": "Q0OXZES5_jAH"
   },
   "source": [
    "---"
   ]
  },
  {
   "cell_type": "markdown",
   "metadata": {
    "id": "fnskN954PG4g"
   },
   "source": [
    "#q1\n",
    "\n",
    "**Q1) [1 Point]**\n",
    "\n",
    "Which of the following statements is used to terminate the statement ?\n",
    "\n",
    "**A)** Next     \n",
    "**B)** Switch    \n",
    "**C)** Break   \n",
    "**D)** With      "
   ]
  },
  {
   "cell_type": "code",
   "execution_count": null,
   "metadata": {
    "id": "KA6dzTaoO_iR"
   },
   "outputs": [],
   "source": [
    "#a1\n",
    "\n",
    "# Choose the correct option (simply write the letter of your choice within the quotation mark give below)\n",
    "\"C) Break\""
   ]
  },
  {
   "cell_type": "markdown",
   "metadata": {
    "id": "eO3acRF5PZjO"
   },
   "source": [
    "#q2\n",
    "\n",
    "**Q2) [1 Point]**\n",
    "\n",
    "Which of the following variable is of `float` type?\n",
    "\n",
    "**A)** `a = '3.0'`       \n",
    "**B)** `b = 3`       \n",
    "**C)** `c = 3/2`         \n",
    "**D)** `d = print(3/2)`     \n",
    "\n",
    "**Note:-**\n",
    "* There can be MORE THAN ONE correct option!"
   ]
  },
  {
   "cell_type": "code",
   "execution_count": null,
   "metadata": {
    "id": "td5QLfDFPyIG"
   },
   "outputs": [],
   "source": [
    "#a2\n",
    "\n",
    "# Choose the correct option(s) (simply write the letter(s) of your choice within the quotation mark give below)\n",
    "\"D) d= print(3/2)\""
   ]
  },
  {
   "cell_type": "markdown",
   "metadata": {
    "id": "sRgmC9bAQIhq"
   },
   "source": [
    "#q3\n",
    "\n",
    "**Q3) [1 Point]**\n",
    "\n",
    "Consider the if-elseif-else statement, how many elseif are possible between if and else statements?\n",
    "\n",
    "**A)** 1       \n",
    "**B)** 0             \n",
    "**C)** Multiple            \n",
    "**D)** None of the above              "
   ]
  },
  {
   "cell_type": "code",
   "execution_count": null,
   "metadata": {
    "id": "xUWx1UeyQQ-c"
   },
   "outputs": [],
   "source": [
    "#a3\n",
    "\n",
    "# Choose the correct option (simply write the letter of your choice within the quotation mark give below)\n",
    "\"REMOVE THIS TEXT AND WRITE YOUR ANSWER HERE, WITHOUT REMOVING THE QUOTATION MARK!\""
   ]
  },
  {
   "cell_type": "markdown",
   "metadata": {
    "id": "bSkoBm58QbdP"
   },
   "source": [
    "#q4\n",
    "\n",
    "**Q4) [4 Points]**\n",
    "\n",
    "Write a function that takes any number N as input and returns the square of that number."
   ]
  },
  {
   "cell_type": "code",
   "execution_count": null,
   "metadata": {
    "id": "-Uvd5anxQbD1"
   },
   "outputs": [],
   "source": [
    "#a4\n",
    "\n",
    "# Complete this given code\n",
    "\n",
    "def square(num):\n",
    "  \"\"\"\n",
    "  Add a description for this function here\n",
    "  \"\"\"\n",
    "  # Complete the function (remove the pass and add return)\n",
    "  pass\n",
    "\n",
    "# Take the user input correctly to square the number\n",
    "N =\n",
    "\n",
    "# Print using f-string a message that displays for example:- \"Square of 2 is:- 4\"\n",
    "print(f'')"
   ]
  },
  {
   "cell_type": "markdown",
   "metadata": {
    "id": "vsIazwRaRotO"
   },
   "source": [
    "#q5\n",
    "\n",
    "**Q5) [5 Points]**\n",
    "\n",
    "Write a program which will find all such numbers which are divisible by 7 but are not a multiple of 5, between 2000 and 3200 (both included). The numbers obtained should be printed in a comma-separated sequence on a single line without `[ ]` or `,` at the end."
   ]
  },
  {
   "cell_type": "code",
   "execution_count": null,
   "metadata": {
    "id": "K9JX4231RsP3"
   },
   "outputs": [],
   "source": [
    "#a5\n",
    "\n",
    "# Write your code solution here (make sure to follow all the conditions in the question)\n",
    "\n",
    "\n",
    "\n"
   ]
  },
  {
   "cell_type": "markdown",
   "metadata": {
    "id": "CnE4TZJVR5dS"
   },
   "source": [
    "#q6\n",
    "\n",
    "**Q6) [2 Points]**\n",
    "\n",
    "Write a Python program to accept the user's first and last name and then get them printed in the reverse order with a space between first name and last name. For example:-\n",
    "```\n",
    "User Inputs:-\n",
    "first_name = rohan\n",
    "last_name = shah\n",
    "\n",
    "Expected Output:-\n",
    "Shah Rohan\n",
    "```\n",
    "\n",
    "\n"
   ]
  },
  {
   "cell_type": "code",
   "execution_count": null,
   "metadata": {
    "id": "nfKvDXMzSSIu"
   },
   "outputs": [],
   "source": [
    "#a6\n",
    "\n",
    "# Take user inputs with an appropriate input message for each inputs\n",
    "first_name =\n",
    "last_name =\n",
    "\n",
    "# Use f string to print the final answer\n",
    "print()"
   ]
  },
  {
   "cell_type": "markdown",
   "metadata": {
    "id": "Vjg40_0DSmgk"
   },
   "source": [
    "#q7\n",
    "\n",
    "**Q7) [2 Points]**\n",
    "\n",
    "Given this given nested list, use indexing to grab and print the word \"ADS-27112023\"."
   ]
  },
  {
   "cell_type": "code",
   "execution_count": null,
   "metadata": {
    "id": "8OlMoQfwS78o"
   },
   "outputs": [],
   "source": [
    "#a7\n",
    "\n",
    "# Given Nested List with the target element\n",
    "lst = [1,2,[3,4],[5,[100,200,['ADS-27112023']],23,11],1,7]\n",
    "\n",
    "# print the word 'ADS-27112023' using list indexing without [ ] over the word\n",
    "print()"
   ]
  },
  {
   "cell_type": "markdown",
   "metadata": {
    "id": "uAsHBi0BYLfI"
   },
   "source": [
    "#q8\n",
    "\n",
    "**Q8) [8 Points]**\n",
    "\n",
    "Create a function named as `detect_variable_star`\n",
    "* That accepts a dictionary of brightness of a star observed over a period of 12 months.\n",
    "* Returns the name of months and **maximum percentage change** in brightness observed if the star is variable.\n",
    "* Returns -1 if the star is not variable.\n",
    "\n",
    "**Note:-**        \n",
    "* Assume that a star is variable if there is a change in brightness greater than 20% between any two consecutive observations.    \n",
    "* Use NumPy Methods and Condition statements to solve this question."
   ]
  },
  {
   "cell_type": "code",
   "execution_count": null,
   "metadata": {
    "id": "Uf9d4MmlYMI0"
   },
   "outputs": [],
   "source": [
    "#a8\n",
    "\n",
    "''' Complete the given code below '''\n",
    "\n",
    "# Numpy Import\n",
    "import numpy as np\n",
    "\n",
    "# Function Required for this question\n",
    "def detect_variable_star(light_curve_data):\n",
    "\n",
    "  \"\"\"\n",
    "  Analyzes the light curve data of a star's brightness over consecutive months to determine if it is a variable star.\n",
    "\n",
    "  Parameters:\n",
    "  -----------\n",
    "  light_curve_data (dict): A dictionary with keys representing months and values indicating the brightness of the star in that month.\n",
    "\n",
    "  Returns:\n",
    "  ---------\n",
    "  start_month (str): The month where the maximum percentage change in brightness begins to occur.\n",
    "  end_month (str): The month where the maximum percentage change in brightness ends.\n",
    "  max_percentage_change_value (float): The maximum percentage change in brightness between start_month and end_month.\n",
    "  -1: If the star is not a variable, indicating consistent brightness.\n",
    "  \"\"\"\n",
    "\n",
    "  # Convert the values of dictionary to list and then to numpy array\n",
    "  array_data =\n",
    "\n",
    "  # Calculate the change in brightness using numpy methods (Hint:- np.diff())\n",
    "  percentage_brightness_change =\n",
    "\n",
    "  # If any of the change in brighntess is more than 20%\n",
    "  if np.any(percentage_brightness_change > 0.2):\n",
    "\n",
    "      # Get the index of the max value in the brightness_change\n",
    "      max_change_index =\n",
    "\n",
    "      # Get the Start and End Month based on that index\n",
    "      start_month =\n",
    "      end_month =\n",
    "\n",
    "      # Get the Maximum value out of the brightness_change\n",
    "      max_percentage_change_value =\n",
    "\n",
    "      return start_month, end_month, max_percentage_change_value\n",
    "\n",
    "  else:\n",
    "\n",
    "    # Feel free to change the code the way you want to meet the question requirements\n",
    "    pass\n",
    "\n",
    "''' DON'T CHANGE THE CODE BELOW THIS LINE! JUST RUN IT AS IT IS. '''\n",
    "\n",
    "# Here is the given data\n",
    "light_curve_data = {'January': 0.8,\n",
    "                    'February': 0.85,\n",
    "                    'March': 0.9,\n",
    "                    'April': 1.1,\n",
    "                    'May': 1.5,\n",
    "                    'June': 2.0,\n",
    "                    'July': 1.8,\n",
    "                    'August': 1.4,\n",
    "                    'September': 1.2,\n",
    "                    'October': 1.0,\n",
    "                    'Novemeber': 0.9,\n",
    "                    'December': 1.1}\n",
    "\n",
    "# Call your function\n",
    "output = detect_variable_star(light_curve_data)\n",
    "\n",
    "# Check if output is -1 and print the respetive statements\n",
    "if output != -1:\n",
    "  start_month, end_month, max_change_value = output\n",
    "  print(f'The maximum change in brightness of {max_change_value:.2%} was observed in {start_month}-{end_month}.')\n",
    "else:\n",
    "  print('This is not a variable star!')"
   ]
  },
  {
   "cell_type": "markdown",
   "metadata": {
    "id": "F966-PlwqZBS"
   },
   "source": [
    "#q9\n",
    "\n",
    "**Q9) [1 Point]**\n",
    "\n",
    "If you ever got a chance to work on some Astronomy Mission, what would it be and why?"
   ]
  },
  {
   "cell_type": "code",
   "execution_count": null,
   "metadata": {
    "id": "1V3xwtueqqgK"
   },
   "outputs": [],
   "source": [
    "#a9\n",
    "\n",
    "# Write your answer within the tripple double quotations below\n",
    "\"\"\"\n",
    "You can write a multiline answer here.\n",
    "Remove this text and fill your answer here! :D\n",
    "\"\"\""
   ]
  },
  {
   "cell_type": "markdown",
   "metadata": {
    "id": "YBVDnxpTquNY"
   },
   "source": [
    "# END\n",
    "---"
   ]
  },
  {
   "cell_type": "markdown",
   "metadata": {
    "id": "cTvVtCLnq0Aq"
   },
   "source": [
    "### Download the file as .ipynb and submit it via Google Form on Slack\n",
    "\n",
    "# ✨ Congratulations, you have completed your first assignment of ADS. 🎉"
   ]
  }
 ],
 "metadata": {
  "colab": {
   "provenance": []
  },
  "kernelspec": {
   "display_name": "Python 3 (ipykernel)",
   "language": "python",
   "name": "python3"
  },
  "language_info": {
   "codemirror_mode": {
    "name": "ipython",
    "version": 3
   },
   "file_extension": ".py",
   "mimetype": "text/x-python",
   "name": "python",
   "nbconvert_exporter": "python",
   "pygments_lexer": "ipython3",
   "version": "3.12.3"
  }
 },
 "nbformat": 4,
 "nbformat_minor": 4
}
